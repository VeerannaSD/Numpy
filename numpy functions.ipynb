{
 "cells": [
  {
   "cell_type": "code",
   "execution_count": 26,
   "id": "5e05bc9d",
   "metadata": {},
   "outputs": [],
   "source": [
    "import numpy as np"
   ]
  },
  {
   "cell_type": "markdown",
   "id": "9c735378",
   "metadata": {},
   "source": [
    "Using zeros method"
   ]
  },
  {
   "cell_type": "code",
   "execution_count": 27,
   "id": "051da3c1",
   "metadata": {},
   "outputs": [
    {
     "name": "stdout",
     "output_type": "stream",
     "text": [
      "[[0. 0. 0. 0. 0. 0. 0. 0. 0. 0.]\n",
      " [0. 0. 0. 0. 0. 0. 0. 0. 0. 0.]]\n"
     ]
    }
   ],
   "source": [
    "x = np.zeros(shape=(2,10))\n",
    "print(x)"
   ]
  },
  {
   "cell_type": "markdown",
   "id": "d86f6e74",
   "metadata": {},
   "source": [
    "Using full method"
   ]
  },
  {
   "cell_type": "code",
   "execution_count": 28,
   "id": "120cddf9",
   "metadata": {},
   "outputs": [
    {
     "data": {
      "text/plain": [
       "array([10, 10, 10, 10, 10, 10, 10, 10, 10, 10])"
      ]
     },
     "execution_count": 28,
     "metadata": {},
     "output_type": "execute_result"
    }
   ],
   "source": [
    "y = np.full(10,fill_value=10)\n",
    "y"
   ]
  },
  {
   "cell_type": "code",
   "execution_count": 29,
   "id": "b1c40e62",
   "metadata": {},
   "outputs": [
    {
     "data": {
      "text/plain": [
       "array([[10.5, 10.5, 10.5],\n",
       "       [10.5, 10.5, 10.5]])"
      ]
     },
     "execution_count": 29,
     "metadata": {},
     "output_type": "execute_result"
    }
   ],
   "source": [
    "z=np.full(shape=(2,3),fill_value=10.5)\n",
    "z"
   ]
  },
  {
   "cell_type": "code",
   "execution_count": 30,
   "id": "9738f9e2",
   "metadata": {},
   "outputs": [
    {
     "data": {
      "text/plain": [
       "array([ 3. ,  5.5,  8. , 10.5, 13. ])"
      ]
     },
     "execution_count": 30,
     "metadata": {},
     "output_type": "execute_result"
    }
   ],
   "source": [
    "x = np.arange(3, 15, 2.5)#here 2.5 is  step i.e,3,3+2.5,3+2.5+2.5,...\n",
    "x"
   ]
  },
  {
   "cell_type": "code",
   "execution_count": 31,
   "id": "0cafc485",
   "metadata": {},
   "outputs": [
    {
     "data": {
      "text/plain": [
       "array([ 1,  2,  3,  4,  5,  6,  7,  8,  9, 10])"
      ]
     },
     "execution_count": 31,
     "metadata": {},
     "output_type": "execute_result"
    }
   ],
   "source": [
    "x=np.arange(1,11)\n",
    "x"
   ]
  },
  {
   "cell_type": "code",
   "execution_count": 32,
   "id": "4ac69e10",
   "metadata": {},
   "outputs": [
    {
     "data": {
      "text/plain": [
       "array([ 3.  ,  4.75,  6.5 ,  8.25, 10.  ])"
      ]
     },
     "execution_count": 32,
     "metadata": {},
     "output_type": "execute_result"
    }
   ],
   "source": [
    "y=np.linspace(3,10,5)\n",
    "y"
   ]
  },
  {
   "cell_type": "code",
   "execution_count": 33,
   "id": "0b5ff768",
   "metadata": {},
   "outputs": [
    {
     "name": "stdout",
     "output_type": "stream",
     "text": [
      "[0.54340494 0.27836939]\n"
     ]
    }
   ],
   "source": [
    "np.random.seed(100) # setting seed,seed will help us generate same set of random values on each execution\n",
    "x = np.random.rand(2) # 2 random numbers between 0 and 1\n",
    "\n",
    "print(x)"
   ]
  },
  {
   "cell_type": "code",
   "execution_count": 34,
   "id": "1b4c3b1a",
   "metadata": {},
   "outputs": [
    {
     "data": {
      "text/plain": [
       "array([0.54340494, 0.27836939, 0.42451759, 0.84477613, 0.00471886,\n",
       "       0.12156912, 0.67074908, 0.82585276, 0.13670659, 0.57509333])"
      ]
     },
     "execution_count": 34,
     "metadata": {},
     "output_type": "execute_result"
    }
   ],
   "source": [
    "np.random.seed(100)\n",
    "y=np.random.rand(10)#Dfault random values generated are btween 0 and 1\n",
    "y"
   ]
  },
  {
   "cell_type": "code",
   "execution_count": 35,
   "id": "6dad1389",
   "metadata": {},
   "outputs": [
    {
     "data": {
      "text/plain": [
       "18"
      ]
     },
     "execution_count": 35,
     "metadata": {},
     "output_type": "execute_result"
    }
   ],
   "source": [
    "np.random.seed(100)\n",
    "x=np.random.randint(10,20)#Generate random number between 10 and 20\n",
    "x"
   ]
  },
  {
   "cell_type": "code",
   "execution_count": null,
   "id": "3e6a7e48",
   "metadata": {},
   "outputs": [],
   "source": []
  },
  {
   "cell_type": "code",
   "execution_count": 36,
   "id": "0d23f7f1",
   "metadata": {},
   "outputs": [
    {
     "data": {
      "text/plain": [
       "array([18, 18, 13])"
      ]
     },
     "execution_count": 36,
     "metadata": {},
     "output_type": "execute_result"
    }
   ],
   "source": [
    "np.random.seed(100)\n",
    "x=np.random.randint(10,20,3)#Generate 3 random values between 10 and 20\n",
    "x"
   ]
  },
  {
   "cell_type": "code",
   "execution_count": 37,
   "id": "4eb95a86",
   "metadata": {},
   "outputs": [
    {
     "data": {
      "text/plain": [
       "array([[1., 0., 0., 0.],\n",
       "       [0., 1., 0., 0.],\n",
       "       [0., 0., 1., 0.],\n",
       "       [0., 0., 0., 1.]])"
      ]
     },
     "execution_count": 37,
     "metadata": {},
     "output_type": "execute_result"
    }
   ],
   "source": [
    "np.eye(4)#diagonal 1's and elswhere 0's"
   ]
  },
  {
   "cell_type": "code",
   "execution_count": null,
   "id": "595a2a04",
   "metadata": {},
   "outputs": [],
   "source": []
  },
  {
   "cell_type": "code",
   "execution_count": 38,
   "id": "76f76783",
   "metadata": {},
   "outputs": [
    {
     "data": {
      "text/plain": [
       "array([[0.4120464 , 0.52638247],\n",
       "       [0.14860484, 0.15671108],\n",
       "       [0.18646718, 0.21010774]])"
      ]
     },
     "execution_count": 38,
     "metadata": {},
     "output_type": "execute_result"
    }
   ],
   "source": [
    "np.random.rand(3,2)#Generate random numbers between 0 and 1 with array of 3 rows and 2 columns"
   ]
  },
  {
   "cell_type": "code",
   "execution_count": 39,
   "id": "ee186d71",
   "metadata": {},
   "outputs": [
    {
     "data": {
      "text/plain": [
       "array([0.4527399 , 0.87014264, 0.06368104])"
      ]
     },
     "execution_count": 39,
     "metadata": {},
     "output_type": "execute_result"
    }
   ],
   "source": [
    "np.random.random(3)#Generate 3 random numbers btn 0 and 1"
   ]
  },
  {
   "cell_type": "code",
   "execution_count": 40,
   "id": "98dc8bba",
   "metadata": {},
   "outputs": [
    {
     "name": "stdout",
     "output_type": "stream",
     "text": [
      "[[0 0 0]\n",
      " [0 0 0]]\n"
     ]
    }
   ],
   "source": [
    "import numpy as np\n",
    "\n",
    "x = np.array([[-1,0,1], [-2, 0, 2]])\n",
    "\n",
    "y = np.zeros_like(x)\n",
    "#reset all exisitng numbers to 0's\n",
    "print(y)"
   ]
  },
  {
   "cell_type": "code",
   "execution_count": 41,
   "id": "a7bdc993",
   "metadata": {},
   "outputs": [
    {
     "data": {
      "text/plain": [
       "array([[1., 1., 1., 1.],\n",
       "       [1., 1., 1., 1.],\n",
       "       [1., 1., 1., 1.]])"
      ]
     },
     "execution_count": 41,
     "metadata": {},
     "output_type": "execute_result"
    }
   ],
   "source": [
    "np.ones(shape=(3,4))#Prints all array values as 1 depending one shape values"
   ]
  },
  {
   "cell_type": "markdown",
   "id": "e75461f9",
   "metadata": {},
   "source": [
    "normal(loc=0.0, scale=1.0, size=None)\n",
    "loc is mean , scale is standard deviation,size is number of elements\n",
    "Draw random samples from a normal (Gaussian) distribution."
   ]
  },
  {
   "cell_type": "code",
   "execution_count": 42,
   "id": "6ac11d22",
   "metadata": {},
   "outputs": [
    {
     "data": {
      "text/plain": [
       "array([ 6.08204126, 10.76118148,  4.69341155,  5.03864828,  5.66504088])"
      ]
     },
     "execution_count": 42,
     "metadata": {},
     "output_type": "execute_result"
    }
   ],
   "source": [
    "np.random.normal(loc=5,scale=2.5,size=5)"
   ]
  },
  {
   "cell_type": "code",
   "execution_count": 43,
   "id": "2cc2b3c6",
   "metadata": {},
   "outputs": [
    {
     "data": {
      "text/plain": [
       "array([-1.74976547,  0.3426804 ,  1.1530358 ])"
      ]
     },
     "execution_count": 43,
     "metadata": {},
     "output_type": "execute_result"
    }
   ],
   "source": [
    "np.random.seed(100)\n",
    "x = np.random.randn(3) # Standard normal distribution\n",
    "x"
   ]
  },
  {
   "cell_type": "code",
   "execution_count": 44,
   "id": "d3752432",
   "metadata": {},
   "outputs": [
    {
     "name": "stdout",
     "output_type": "stream",
     "text": [
      "[ 6.50046905 10.68536081 12.30607161]\n"
     ]
    }
   ],
   "source": [
    "np.random.seed(100)\n",
    "x = 10 + 2*np.random.randn(3) # normal distribution with mean 10 and sd 2\n",
    "\n",
    "print(x)"
   ]
  },
  {
   "cell_type": "code",
   "execution_count": 45,
   "id": "c433ee17",
   "metadata": {},
   "outputs": [
    {
     "data": {
      "text/plain": [
       "array([ 5.62558632, 10.85670101, 12.88258951])"
      ]
     },
     "execution_count": 45,
     "metadata": {},
     "output_type": "execute_result"
    }
   ],
   "source": [
    "np.random.seed(100)\n",
    "np.random.normal(loc=10,scale=2.5,size=3)"
   ]
  },
  {
   "cell_type": "markdown",
   "id": "aeb657e1",
   "metadata": {},
   "source": [
    "loadtxt is used to read data from a text file or any input data stream."
   ]
  },
  {
   "cell_type": "code",
   "execution_count": 46,
   "id": "9875282b",
   "metadata": {},
   "outputs": [
    {
     "data": {
      "text/plain": [
       "array([[88.25, 93.45, 72.6 , 90.9 ],\n",
       "       [72.3 , 78.85, 92.15, 65.75],\n",
       "       [90.5 , 92.45, 89.25, 94.5 ]])"
      ]
     },
     "execution_count": 46,
     "metadata": {},
     "output_type": "execute_result"
    }
   ],
   "source": [
    "from io import StringIO\n",
    "\n",
    "x = StringIO('''88.25 93.45 72.60 90.90\n",
    "72.3 78.85 92.15 65.75\n",
    "90.5 92.45 89.25 94.50\n",
    "''')\n",
    "\n",
    "d = np.loadtxt(x,delimiter=' ')\n",
    "d"
   ]
  },
  {
   "cell_type": "code",
   "execution_count": 47,
   "id": "47143ce2",
   "metadata": {},
   "outputs": [
    {
     "name": "stdout",
     "output_type": "stream",
     "text": [
      "2 (3, 4)\n"
     ]
    }
   ],
   "source": [
    "print(d.ndim, d.shape)"
   ]
  },
  {
   "cell_type": "code",
   "execution_count": 48,
   "id": "1e4f94f3",
   "metadata": {},
   "outputs": [
    {
     "name": "stdout",
     "output_type": "stream",
     "text": [
      "[0 1 2 3]\n"
     ]
    }
   ],
   "source": [
    "\n",
    "x = np.arange(4)\n",
    "print(x.flatten())"
   ]
  },
  {
   "cell_type": "code",
   "execution_count": null,
   "id": "18c53831",
   "metadata": {},
   "outputs": [],
   "source": []
  },
  {
   "cell_type": "code",
   "execution_count": null,
   "id": "d5e40eb7",
   "metadata": {},
   "outputs": [],
   "source": []
  }
 ],
 "metadata": {
  "kernelspec": {
   "display_name": "Python 3",
   "language": "python",
   "name": "python3"
  },
  "language_info": {
   "codemirror_mode": {
    "name": "ipython",
    "version": 3
   },
   "file_extension": ".py",
   "mimetype": "text/x-python",
   "name": "python",
   "nbconvert_exporter": "python",
   "pygments_lexer": "ipython3",
   "version": "3.8.8"
  }
 },
 "nbformat": 4,
 "nbformat_minor": 5
}
