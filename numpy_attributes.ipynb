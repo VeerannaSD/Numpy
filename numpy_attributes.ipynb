{
 "cells": [
  {
   "cell_type": "code",
   "execution_count": 2,
   "id": "2525f6ce",
   "metadata": {},
   "outputs": [],
   "source": [
    "import numpy as np"
   ]
  },
  {
   "cell_type": "markdown",
   "id": "7908ca75",
   "metadata": {},
   "source": [
    "1-d numpy array ndarrray"
   ]
  },
  {
   "cell_type": "code",
   "execution_count": 3,
   "id": "c5230933",
   "metadata": {},
   "outputs": [],
   "source": [
    "x = np.array([5,8,9,10,11]) "
   ]
  },
  {
   "cell_type": "code",
   "execution_count": 4,
   "id": "ada25f4b",
   "metadata": {},
   "outputs": [
    {
     "data": {
      "text/plain": [
       "array([ 5,  8,  9, 10, 11])"
      ]
     },
     "execution_count": 4,
     "metadata": {},
     "output_type": "execute_result"
    }
   ],
   "source": [
    "x"
   ]
  },
  {
   "cell_type": "code",
   "execution_count": 5,
   "id": "c1027907",
   "metadata": {},
   "outputs": [
    {
     "data": {
      "text/plain": [
       "numpy.ndarray"
      ]
     },
     "execution_count": 5,
     "metadata": {},
     "output_type": "execute_result"
    }
   ],
   "source": [
    "type(x)"
   ]
  },
  {
   "cell_type": "markdown",
   "id": "69eb1288",
   "metadata": {},
   "source": [
    "2-d numpy ndarray"
   ]
  },
  {
   "cell_type": "code",
   "execution_count": 6,
   "id": "48444459",
   "metadata": {},
   "outputs": [],
   "source": [
    "y=np.array([[6,9,5],[10,82,34]])"
   ]
  },
  {
   "cell_type": "code",
   "execution_count": 7,
   "id": "216291a4",
   "metadata": {},
   "outputs": [
    {
     "data": {
      "text/plain": [
       "array([[ 6,  9,  5],\n",
       "       [10, 82, 34]])"
      ]
     },
     "execution_count": 7,
     "metadata": {},
     "output_type": "execute_result"
    }
   ],
   "source": [
    "y"
   ]
  },
  {
   "cell_type": "code",
   "execution_count": 8,
   "id": "cd632bec",
   "metadata": {},
   "outputs": [
    {
     "data": {
      "text/plain": [
       "numpy.ndarray"
      ]
     },
     "execution_count": 8,
     "metadata": {},
     "output_type": "execute_result"
    }
   ],
   "source": [
    "type(y)"
   ]
  },
  {
   "cell_type": "markdown",
   "id": "b67cad55",
   "metadata": {},
   "source": [
    "numpy array attributes"
   ]
  },
  {
   "cell_type": "code",
   "execution_count": 9,
   "id": "8821fabf",
   "metadata": {},
   "outputs": [
    {
     "name": "stdout",
     "output_type": "stream",
     "text": [
      "2 (2, 3) 6 int32 4 24\n"
     ]
    }
   ],
   "source": [
    "print(y.ndim, y.shape, y.size, y.dtype, y.itemsize, y.nbytes)"
   ]
  },
  {
   "cell_type": "code",
   "execution_count": 10,
   "id": "011c71a3",
   "metadata": {},
   "outputs": [
    {
     "data": {
      "text/plain": [
       "dtype('int32')"
      ]
     },
     "execution_count": 10,
     "metadata": {},
     "output_type": "execute_result"
    }
   ],
   "source": [
    "y.dtype"
   ]
  },
  {
   "cell_type": "code",
   "execution_count": 11,
   "id": "2a65b43b",
   "metadata": {},
   "outputs": [],
   "source": [
    "z = np.array([[6, 9, 5],[10, 82, 34]],dtype='float64') "
   ]
  },
  {
   "cell_type": "code",
   "execution_count": 12,
   "id": "c7974372",
   "metadata": {},
   "outputs": [
    {
     "data": {
      "text/plain": [
       "dtype('float64')"
      ]
     },
     "execution_count": 12,
     "metadata": {},
     "output_type": "execute_result"
    }
   ],
   "source": [
    "z.dtype"
   ]
  },
  {
   "cell_type": "code",
   "execution_count": 13,
   "id": "a4a4a10d",
   "metadata": {},
   "outputs": [
    {
     "name": "stdout",
     "output_type": "stream",
     "text": [
      "[[ 6.  9.  5.]\n",
      " [10. 82. 34.]]\n"
     ]
    }
   ],
   "source": [
    "print(z)"
   ]
  },
  {
   "cell_type": "code",
   "execution_count": 14,
   "id": "4ca3d59a",
   "metadata": {},
   "outputs": [],
   "source": [
    "a = [\n",
    "    [\n",
    "        [4.1, 2.5], [1.1, 2.3], [9.1, 2.5]\n",
    "    ], \n",
    "     [\n",
    "         [8.6, 9.9],[3.6, 4.3], [6.6, 0.3]\n",
    "     ]\n",
    "]\n",
    "\n"
   ]
  },
  {
   "cell_type": "code",
   "execution_count": 15,
   "id": "d11dcb12",
   "metadata": {},
   "outputs": [],
   "source": [
    "x = np.array(a, dtype='float64')"
   ]
  },
  {
   "cell_type": "code",
   "execution_count": 16,
   "id": "cf5716cb",
   "metadata": {},
   "outputs": [
    {
     "data": {
      "text/plain": [
       "array([[[4.1, 2.5],\n",
       "        [1.1, 2.3],\n",
       "        [9.1, 2.5]],\n",
       "\n",
       "       [[8.6, 9.9],\n",
       "        [3.6, 4.3],\n",
       "        [6.6, 0.3]]])"
      ]
     },
     "execution_count": 16,
     "metadata": {},
     "output_type": "execute_result"
    }
   ],
   "source": [
    "x"
   ]
  },
  {
   "cell_type": "code",
   "execution_count": 17,
   "id": "b3a9626c",
   "metadata": {},
   "outputs": [
    {
     "data": {
      "text/plain": [
       "(numpy.ndarray, 3, (2, 3, 2))"
      ]
     },
     "execution_count": 17,
     "metadata": {},
     "output_type": "execute_result"
    }
   ],
   "source": [
    "type(x), x.ndim, x.shape"
   ]
  },
  {
   "cell_type": "markdown",
   "id": "853508e3",
   "metadata": {},
   "source": [
    "Array Creation Methods\n",
    "Numpy allows creation of arrays with default values like 0, 1, or another value"
   ]
  },
  {
   "cell_type": "markdown",
   "id": "682f2379",
   "metadata": {},
   "source": []
  }
 ],
 "metadata": {
  "kernelspec": {
   "display_name": "Python 3",
   "language": "python",
   "name": "python3"
  },
  "language_info": {
   "codemirror_mode": {
    "name": "ipython",
    "version": 3
   },
   "file_extension": ".py",
   "mimetype": "text/x-python",
   "name": "python",
   "nbconvert_exporter": "python",
   "pygments_lexer": "ipython3",
   "version": "3.8.8"
  }
 },
 "nbformat": 4,
 "nbformat_minor": 5
}
