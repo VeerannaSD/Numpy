{
 "cells": [
  {
   "cell_type": "code",
   "execution_count": 1,
   "id": "9f591986",
   "metadata": {},
   "outputs": [],
   "source": [
    "import numpy as np"
   ]
  },
  {
   "cell_type": "code",
   "execution_count": 31,
   "id": "e6bfeaea",
   "metadata": {},
   "outputs": [
    {
     "name": "stdout",
     "output_type": "stream",
     "text": [
      "10\n",
      "[10 15 20 25 30]\n",
      "[10 25]\n",
      "7\n"
     ]
    }
   ],
   "source": [
    "x = np.array([5, 10, 15, 20, 25, 30, 35])\n",
    "x_copy=x.copy()\n",
    "\n",
    "print(x[1])  # Indexing\n",
    "print(x[1:6]) # Slicing\n",
    "print(x[1:6:3]) # Slicing with step\n",
    "print(len(x))#length of array"
   ]
  },
  {
   "cell_type": "code",
   "execution_count": 32,
   "id": "624094fb",
   "metadata": {},
   "outputs": [
    {
     "name": "stdout",
     "output_type": "stream",
     "text": [
      "[ 5 10 13 20 25 30 35]\n"
     ]
    }
   ],
   "source": [
    "x[2]=13#updating np array\n",
    "print(x)\n"
   ]
  },
  {
   "cell_type": "code",
   "execution_count": 33,
   "id": "d4894238",
   "metadata": {},
   "outputs": [
    {
     "name": "stdout",
     "output_type": "stream",
     "text": [
      "[ 5 15 15 20 25 30 35]\n"
     ]
    }
   ],
   "source": [
    "x[1:3]=15#Assigning 2 values with 15 indexed 1 and 2\n",
    "print(x)"
   ]
  },
  {
   "cell_type": "code",
   "execution_count": 34,
   "id": "4d58304e",
   "metadata": {},
   "outputs": [
    {
     "name": "stdout",
     "output_type": "stream",
     "text": [
      "[15 15 20 25 30 35]\n"
     ]
    }
   ],
   "source": [
    "print(x[1:])"
   ]
  },
  {
   "cell_type": "code",
   "execution_count": 38,
   "id": "ec07ecee",
   "metadata": {},
   "outputs": [],
   "source": [
    "array_slice=x[2:5]"
   ]
  },
  {
   "cell_type": "code",
   "execution_count": 39,
   "id": "a4f2893a",
   "metadata": {},
   "outputs": [
    {
     "name": "stdout",
     "output_type": "stream",
     "text": [
      "[15 20 25]\n"
     ]
    }
   ],
   "source": [
    "print(array_slice[:4])"
   ]
  },
  {
   "cell_type": "code",
   "execution_count": 40,
   "id": "4ae71223",
   "metadata": {},
   "outputs": [
    {
     "data": {
      "text/plain": [
       "array([ 5, 15, -1, -1, -1, 30, 35])"
      ]
     },
     "execution_count": 40,
     "metadata": {},
     "output_type": "execute_result"
    }
   ],
   "source": [
    "array_slice[:3]=-1#Update to array_slice have update to original array x, better make copy of x--->x.copy()\n",
    "x"
   ]
  },
  {
   "cell_type": "code",
   "execution_count": 49,
   "id": "2a53a157",
   "metadata": {},
   "outputs": [
    {
     "name": "stdout",
     "output_type": "stream",
     "text": [
      "[[4 5]]\n",
      "[3 4 5]\n",
      "5\n",
      "[1 4]\n"
     ]
    }
   ],
   "source": [
    "y = np.array([[0, 1, 2],\n",
    "              [3, 4, 5]])\n",
    "print(y[1:2, 1:3]) #In 1th row , select 1th column and 2nd column\n",
    "print(y[1])   #Select 1th row\n",
    "print(y[1,2])#select 1th row and 2nd colmn\n",
    "print(y[:, 1]) #select all rows,and only 1th column"
   ]
  },
  {
   "cell_type": "code",
   "execution_count": 50,
   "id": "c724acc6",
   "metadata": {},
   "outputs": [
    {
     "data": {
      "text/plain": [
       "array([[ 0,  1,  2,  3,  4,  5,  6,  7,  8,  9],\n",
       "       [10, 11, 12, 13, 14, 15, 16, 17, 18, 19],\n",
       "       [20, 21, 22, 23, 24, 25, 26, 27, 28, 29],\n",
       "       [30, 31, 32, 33, 34, 35, 36, 37, 38, 39],\n",
       "       [40, 41, 42, 43, 44, 45, 46, 47, 48, 49],\n",
       "       [50, 51, 52, 53, 54, 55, 56, 57, 58, 59],\n",
       "       [60, 61, 62, 63, 64, 65, 66, 67, 68, 69],\n",
       "       [70, 71, 72, 73, 74, 75, 76, 77, 78, 79],\n",
       "       [80, 81, 82, 83, 84, 85, 86, 87, 88, 89]])"
      ]
     },
     "execution_count": 50,
     "metadata": {},
     "output_type": "execute_result"
    }
   ],
   "source": [
    "arr=np.arange(90).reshape(9,10)\n",
    "arr"
   ]
  },
  {
   "cell_type": "code",
   "execution_count": 53,
   "id": "6b554d36",
   "metadata": {},
   "outputs": [
    {
     "name": "stdout",
     "output_type": "stream",
     "text": [
      "11\n",
      "11\n"
     ]
    }
   ],
   "source": [
    "print(arr[1,1])#Its same as arr[1][1]\n",
    "print(arr[1][1])"
   ]
  },
  {
   "cell_type": "code",
   "execution_count": 56,
   "id": "55ccdd3b",
   "metadata": {},
   "outputs": [
    {
     "name": "stdout",
     "output_type": "stream",
     "text": [
      "[[10 11 12 13 14 15 16 17 18 19]\n",
      " [20 21 22 23 24 25 26 27 28 29]\n",
      " [30 31 32 33 34 35 36 37 38 39]\n",
      " [40 41 42 43 44 45 46 47 48 49]\n",
      " [50 51 52 53 54 55 56 57 58 59]\n",
      " [60 61 62 63 64 65 66 67 68 69]]\n"
     ]
    }
   ],
   "source": [
    "print(arr[1:7])"
   ]
  },
  {
   "cell_type": "code",
   "execution_count": 55,
   "id": "93c011c3",
   "metadata": {},
   "outputs": [
    {
     "name": "stdout",
     "output_type": "stream",
     "text": [
      "[[11 12 13 14 15 16 17]\n",
      " [21 22 23 24 25 26 27]\n",
      " [31 32 33 34 35 36 37]\n",
      " [41 42 43 44 45 46 47]\n",
      " [51 52 53 54 55 56 57]\n",
      " [61 62 63 64 65 66 67]]\n"
     ]
    }
   ],
   "source": [
    "print(arr[1:7,1:8])"
   ]
  },
  {
   "cell_type": "code",
   "execution_count": 88,
   "id": "d3de608d",
   "metadata": {},
   "outputs": [
    {
     "name": "stdout",
     "output_type": "stream",
     "text": [
      "[[[ 1 10 10]\n",
      "  [ 1 20 30]]\n",
      "\n",
      " [[ 1 40 50]\n",
      "  [ 1  2  3]]]\n"
     ]
    }
   ],
   "source": [
    "z = np.array([\n",
    "    [\n",
    "        [1,2,3], \n",
    "        [1,2,3],\n",
    "        [1,2,3]\n",
    "    ],\n",
    "    [\n",
    "        [1,2,3],\n",
    "        [1,10,10],\n",
    "        [1,20,30]\n",
    "    ],\n",
    "    [\n",
    "        [1,2,3],\n",
    "        [1,40,50],\n",
    "        [1,2,3]\n",
    "    ]\n",
    "])\n",
    "# print(z.ndim,z.shape)\n",
    "# print(z[1,:,1]) # index 1 element in row of index 1\n",
    "print(z[1:,1:,:]) # From all outer rows except the first, select 1st index element (which itself is an array) completely.\n",
    "# print(z[2]) # print 2nd index element"
   ]
  },
  {
   "cell_type": "markdown",
   "id": "a8d46b87",
   "metadata": {},
   "source": [
    "for loop to iterate through numpy array"
   ]
  },
  {
   "cell_type": "code",
   "execution_count": 89,
   "id": "630d60ea",
   "metadata": {},
   "outputs": [
    {
     "name": "stdout",
     "output_type": "stream",
     "text": [
      "Row : [-1  1]\n",
      "Row : [-2  2]\n"
     ]
    }
   ],
   "source": [
    "x = np.array([[-1, 1], [-2, 2]])\n",
    "for row in x:\n",
    "    print('Row :',row)"
   ]
  },
  {
   "cell_type": "markdown",
   "id": "8aac8a1a",
   "metadata": {},
   "source": [
    "nditer method of numpy creates an iterator, which enable accessing each element one after the other."
   ]
  },
  {
   "cell_type": "code",
   "execution_count": 93,
   "id": "d05b4428",
   "metadata": {},
   "outputs": [
    {
     "name": "stdout",
     "output_type": "stream",
     "text": [
      "0\n",
      "1\n",
      "2\n",
      "3\n"
     ]
    }
   ],
   "source": [
    "import numpy as np\n",
    "x = np.array([[0,1], [2, 3]])\n",
    "for a in np.nditer(x):\n",
    "    print(a)"
   ]
  },
  {
   "cell_type": "markdown",
   "id": "ae863953",
   "metadata": {},
   "source": [
    "Checking if every element of an array satisfies a condition, results in a Boolean array.\n",
    "    This Boolean array can be used as index to filter elements that satisfy the condition."
   ]
  },
  {
   "cell_type": "code",
   "execution_count": 92,
   "id": "a3f8f414",
   "metadata": {},
   "outputs": [
    {
     "name": "stdout",
     "output_type": "stream",
     "text": [
      "[[0 1 2 3 4]\n",
      " [5 6 7 8 9]]\n",
      "[[ True False  True False  True]\n",
      " [False  True False  True False]]\n",
      "[0 2 4 6 8]\n"
     ]
    }
   ],
   "source": [
    "x = np.arange(10).reshape(2,5)\n",
    "print(x)\n",
    "condition = x % 2 == 0\n",
    "print(condition)\n",
    "print(x[condition])"
   ]
  },
  {
   "cell_type": "code",
   "execution_count": 94,
   "id": "96d369cd",
   "metadata": {},
   "outputs": [
    {
     "name": "stdout",
     "output_type": "stream",
     "text": [
      "[4 5 6 7]\n"
     ]
    }
   ],
   "source": [
    "x = np.arange(12).reshape(3,4)\n",
    "print(x[-2])"
   ]
  },
  {
   "cell_type": "code",
   "execution_count": 99,
   "id": "a4718bf7",
   "metadata": {},
   "outputs": [
    {
     "name": "stdout",
     "output_type": "stream",
     "text": [
      "[[[ 0  1]\n",
      "  [ 2  3]\n",
      "  [ 4  5]\n",
      "  [ 6  7]\n",
      "  [ 8  9]]\n",
      "\n",
      " [[10 11]\n",
      "  [12 13]\n",
      "  [14 15]\n",
      "  [16 17]\n",
      "  [18 19]]\n",
      "\n",
      " [[20 21]\n",
      "  [22 23]\n",
      "  [24 25]\n",
      "  [26 27]\n",
      "  [28 29]]]\n"
     ]
    }
   ],
   "source": [
    "\n",
    "x = np.arange(30).reshape(3,5,2)\n",
    "print(x)"
   ]
  },
  {
   "cell_type": "code",
   "execution_count": 100,
   "id": "ffd75c00",
   "metadata": {},
   "outputs": [
    {
     "name": "stdout",
     "output_type": "stream",
     "text": [
      "[11 15 19]\n"
     ]
    }
   ],
   "source": [
    "print(x[1,::2,1])"
   ]
  },
  {
   "cell_type": "code",
   "execution_count": 101,
   "id": "00c1bbb2",
   "metadata": {},
   "outputs": [
    {
     "name": "stdout",
     "output_type": "stream",
     "text": [
      "[14 15]\n"
     ]
    }
   ],
   "source": [
    "print(x[1][::2][1])"
   ]
  },
  {
   "cell_type": "code",
   "execution_count": 102,
   "id": "9ad55c33",
   "metadata": {},
   "outputs": [
    {
     "name": "stdout",
     "output_type": "stream",
     "text": [
      "[1 5 9]\n"
     ]
    }
   ],
   "source": [
    "\n",
    "x = np.arange(12).reshape(3,4)\n",
    "print(x[:,1])"
   ]
  },
  {
   "cell_type": "code",
   "execution_count": 104,
   "id": "370597e5",
   "metadata": {},
   "outputs": [
    {
     "data": {
      "text/plain": [
       "array([[ 0,  1,  2,  3,  4],\n",
       "       [ 5,  6,  7,  8,  9],\n",
       "       [10, 11, 12, 13, 14],\n",
       "       [15, 16, 17, 18, 19],\n",
       "       [20, 21, 22, 23, 24],\n",
       "       [25, 26, 27, 28, 29]])"
      ]
     },
     "execution_count": 104,
     "metadata": {},
     "output_type": "execute_result"
    }
   ],
   "source": [
    "x=np.arange(30).reshape(6,5)\n",
    "x"
   ]
  },
  {
   "cell_type": "code",
   "execution_count": null,
   "id": "0e5fbbff",
   "metadata": {},
   "outputs": [],
   "source": []
  }
 ],
 "metadata": {
  "kernelspec": {
   "display_name": "Python 3",
   "language": "python",
   "name": "python3"
  },
  "language_info": {
   "codemirror_mode": {
    "name": "ipython",
    "version": 3
   },
   "file_extension": ".py",
   "mimetype": "text/x-python",
   "name": "python",
   "nbconvert_exporter": "python",
   "pygments_lexer": "ipython3",
   "version": "3.8.8"
  }
 },
 "nbformat": 4,
 "nbformat_minor": 5
}
